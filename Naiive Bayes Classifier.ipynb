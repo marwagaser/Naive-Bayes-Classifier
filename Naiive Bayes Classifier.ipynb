{
 "cells": [
  {
   "cell_type": "code",
   "execution_count": 1,
   "metadata": {},
   "outputs": [],
   "source": [
    "import numpy as np\n",
    "import matplotlib.pyplot as plt"
   ]
  },
  {
   "cell_type": "code",
   "execution_count": 2,
   "metadata": {
    "scrolled": true
   },
   "outputs": [
    {
     "name": "stderr",
     "output_type": "stream",
     "text": [
      "c:\\users\\hp\\appdata\\local\\programs\\python\\python36\\lib\\site-packages\\ipykernel_launcher.py:43: RuntimeWarning: overflow encountered in double_scalars\n"
     ]
    },
    {
     "name": "stdout",
     "output_type": "stream",
     "text": [
      "0.795\n",
      "[[18.  0.  0.  0.  0.  0.  1.  0.  1.  0.]\n",
      " [ 0. 20.  0.  0.  0.  0.  0.  0.  0.  0.]\n",
      " [ 0.  0. 16.  0.  0.  1.  1.  0.  1.  1.]\n",
      " [ 0.  0.  0. 17.  0.  1.  0.  0.  2.  0.]\n",
      " [ 0.  0.  0.  0. 12.  0.  3.  0.  1.  4.]\n",
      " [ 0.  0.  0.  0.  2. 14.  0.  0.  3.  1.]\n",
      " [ 0.  0.  0.  0.  0.  0. 19.  0.  1.  0.]\n",
      " [ 0.  0.  0.  0.  3.  0.  0. 12.  0.  5.]\n",
      " [ 1.  0.  0.  0.  0.  0.  0.  0. 18.  1.]\n",
      " [ 1.  0.  0.  1.  3.  0.  0.  1.  1. 13.]]\n"
     ]
    },
    {
     "data": {
      "image/png": "[encoded data removed]",
      "text/plain": [
       "<Figure size 288x288 with 2 Axes>"
      ]
     },
     "metadata": {
      "needs_background": "light"
     },
     "output_type": "display_data"
    }
   ],
   "source": [
    "def calculatemean():\n",
    "    mean_matrix = np.zeros((10, 784))\n",
    "    number = 1\n",
    "    for images in range (0,10):  \n",
    "        for num in range (0,240):   \n",
    "            img = plt.imread(\"Train/\"+str(number)+\".jpg\").ravel()\n",
    "            number+=1\n",
    "            for pixels in range (0,784):              \n",
    "                mean_matrix[images][pixels]+=(img[pixels]/255)\n",
    "    mean_matrix = mean_matrix/240 \n",
    "    return mean_matrix\n",
    "def calculateVariance(mean_matrix):\n",
    "    var_matrix = np.zeros((10, 784))\n",
    "    number = 1\n",
    "    for images in range (0,10):  \n",
    "        for num in range (0,240):   \n",
    "            img = plt.imread(\"Train/\"+str(number)+\".jpg\").ravel()\n",
    "            number+=1\n",
    "            for pixels in range (0,784):              \n",
    "                var_matrix[images][pixels]+=(((img[pixels]/255)-mean_matrix[images][pixels])*((img[pixels]/255)-mean_matrix[images][pixels]))\n",
    "    var_matrix = var_matrix/240\n",
    "    for i in range (0,10): \n",
    "        for j in range (0,784):\n",
    "            if (var_matrix[i][j]<0.01):\n",
    "                var_matrix[i][j]=0.01\n",
    "    return var_matrix \n",
    "#testing phase\n",
    "acc=0\n",
    "test = open(\"Test/Test Labels.txt\", \"r\")\n",
    "confusion_matrix = np.zeros((10,10))\n",
    "greatest_probability = np.zeros((200,10)) #an array which will hold the gaussian values for each group for each image\n",
    "mean = calculatemean() #calculate mean\n",
    "var  = calculateVariance(mean) #calculate variance\n",
    "for image in range (0,200):\n",
    "    number = image+1\n",
    "    img = plt.imread(\"Test/\"+str(number)+\".jpg\").ravel()       \n",
    "    for group in range (0,10): #we have 10 groups that the image can belong to\n",
    "        gaussian=1\n",
    "        for pixel in range(0,784):                     \n",
    "            exp_numerator = (((img[pixel]/255)-mean[group][pixel])*((img[pixel]/255)-mean[group][pixel]))\n",
    "            exp_expression = (-((exp_numerator)/(2*var[group][pixel])))\n",
    "            x = (1/(np.sqrt(2*np.pi*var[group][pixel])))*(np.exp(exp_expression))\n",
    "            gaussian = x*gaussian\n",
    "        greatest_probability[image][group]=gaussian\n",
    "    maximum = np.argmax( greatest_probability[image])\n",
    "    actual= int (test.readline())\n",
    "    if(actual==maximum):\n",
    "        acc+=1\n",
    "    confusion_matrix[actual][maximum]=confusion_matrix[actual][maximum]+1\n",
    "print(acc/200)\n",
    "print (confusion_matrix)\n",
    "plt.matshow(confusion_matrix,fignum=None)\n",
    "plt.xlabel('Predicted')\n",
    "plt.ylabel('Actual')\n",
    "plt.colorbar()\n",
    "plt.savefig('Confusion-Gauss.jpg')  "
   ]
  },
  {
   "cell_type": "code",
   "execution_count": null,
   "metadata": {},
   "outputs": [],
   "source": []
  },
  {
   "cell_type": "code",
   "execution_count": null,
   "metadata": {},
   "outputs": [],
   "source": []
  }
 ],
 "metadata": {
  "kernelspec": {
   "display_name": "Python 3",
   "language": "python",
   "name": "python3"
  },
  "language_info": {
   "codemirror_mode": {
    "name": "ipython",
    "version": 3
   },
   "file_extension": ".py",
   "mimetype": "text/x-python",
   "name": "python",
   "nbconvert_exporter": "python",
   "pygments_lexer": "ipython3",
   "version": "3.6.5"
  }
 },
 "nbformat": 4,
 "nbformat_minor": 2
}
