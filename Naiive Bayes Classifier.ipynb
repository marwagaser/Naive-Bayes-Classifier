{
 "cells": [
  {
   "cell_type": "code",
   "execution_count": 9,
   "metadata": {},
   "outputs": [],
   "source": [
    "import numpy as np\n",
    "import matplotlib.pyplot as plt"
   ]
  },
  {
   "cell_type": "code",
   "execution_count": 26,
   "metadata": {},
   "outputs": [
    {
     "name": "stdout",
     "output_type": "stream",
     "text": [
      "[[0.03333333 0.17916667 0.14583333 ... 0.         0.         0.        ]\n",
      " [0.0125     0.         0.04166667 ... 0.         0.         0.        ]\n",
      " [0.51666667 0.575      0.5375     ... 0.         0.         0.        ]\n",
      " ...\n",
      " [0.56666667 0.29166667 0.45416667 ... 0.         0.         0.        ]\n",
      " [0.17083333 0.19166667 0.0625     ... 0.         0.         0.        ]\n",
      " [0.0375     0.05416667 0.075      ... 0.0125     0.02083333 0.02083333]]\n",
      "======\n",
      "[[0.07388889 1.08039931 0.84956597 ... 0.01       0.01       0.01      ]\n",
      " [0.03734375 0.01       0.21493056 ... 0.01       0.01       0.01      ]\n",
      " [2.94972222 4.38604167 5.34859375 ... 0.01       0.01       0.01      ]\n",
      " ...\n",
      " [3.57055556 1.26493056 2.63956597 ... 0.01       0.01       0.01      ]\n",
      " [0.84998264 1.32159722 0.15859375 ... 0.01       0.01       0.01      ]\n",
      " [0.26942708 0.30123264 0.43604167 ... 0.03734375 0.10373264 0.10373264]]\n"
     ]
    }
   ],
   "source": [
    "def calculatemean():\n",
    "    mean_matrix = np.zeros((10, 784))\n",
    "    number = 1\n",
    "    for images in range (0,10):  \n",
    "        for num in range (0,240):   \n",
    "            img = plt.imread(\"Train/\"+str(number)+\".jpg\").ravel()\n",
    "            number+=1\n",
    "            for pixels in range (0,784):              \n",
    "                mean_matrix[images][pixels]+=img[pixels]\n",
    "    mean_matrix = mean_matrix/240 \n",
    "    return mean_matrix\n",
    "def calculateVariance(mean_matrix):\n",
    "    var_matrix = np.zeros((10, 784))\n",
    "    number = 1\n",
    "    for images in range (0,10):  \n",
    "        for num in range (0,240):   \n",
    "            img = plt.imread(\"Train/\"+str(number)+\".jpg\").ravel()\n",
    "            number+=1\n",
    "            for pixels in range (0,784):              \n",
    "                var_matrix[images][pixels]+=((img[pixels]-mean_matrix[images][pixels])*(img[pixels]-mean_matrix[images][pixels]))\n",
    "    var_matrix = var_matrix/240\n",
    "    for i in range (0,10): \n",
    "        for j in range (0,784):\n",
    "            if (var_matrix[i][j]<0.01):\n",
    "                var_matrix[i][j]=0.01\n",
    "    return var_matrix \n",
    "mean_matrix =calculatemean()\n",
    "print(calculatemean())\n",
    "print(\"======\")\n",
    "print(calculateVariance(mean_matrix))\n"
   ]
  },
  {
   "cell_type": "code",
   "execution_count": 12,
   "metadata": {},
   "outputs": [
    {
     "name": "stdout",
     "output_type": "stream",
     "text": [
      "[[0. 0. 0. ... 0. 0. 0.]\n",
      " [0. 0. 0. ... 0. 0. 0.]\n",
      " [0. 0. 0. ... 0. 0. 0.]\n",
      " ...\n",
      " [0. 0. 0. ... 0. 0. 0.]\n",
      " [0. 0. 0. ... 0. 0. 0.]\n",
      " [0. 0. 0. ... 0. 0. 0.]]\n"
     ]
    }
   ],
   "source": [
    "number= 0+1\n",
    "img = plt.imread(\"Train/\"+str(number)+\".jpg\").ravel()\n",
    "image=np.zeros(784)\n",
    "#print(img)\n",
    "for i in range (0,784):       \n",
    "        image [i] = (img[i]/255)\n",
    "c = np.zeros((10, 784))\n",
    "print(c)"
   ]
  },
  {
   "cell_type": "code",
   "execution_count": null,
   "metadata": {},
   "outputs": [],
   "source": []
  }
 ],
 "metadata": {
  "kernelspec": {
   "display_name": "Python 3",
   "language": "python",
   "name": "python3"
  },
  "language_info": {
   "codemirror_mode": {
    "name": "ipython",
    "version": 3
   },
   "file_extension": ".py",
   "mimetype": "text/x-python",
   "name": "python",
   "nbconvert_exporter": "python",
   "pygments_lexer": "ipython3",
   "version": "3.6.5"
  }
 },
 "nbformat": 4,
 "nbformat_minor": 2
}
